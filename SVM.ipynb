{
 "cells": [
  {
   "cell_type": "code",
   "execution_count": null,
   "metadata": {},
   "outputs": [],
   "source": [
    "import collections\n",
    "import re\n",
    "import string\n",
    "import scipy\n",
    "from scipy import sparse\n",
    "import sklearn\n",
    "import numpy as np"
   ]
  },
  {
   "cell_type": "code",
   "execution_count": null,
   "metadata": {
    "scrolled": true
   },
   "outputs": [],
   "source": [
    "import random\n",
    "with open('train_and_dev.tsv','r') as f:\n",
    "    all_doc = f.readlines()\n",
    "    #Shuffle the order of the data\n",
    "    random.shuffle(all_doc)\n",
    "    training_data = all_doc[:int(len(all_doc)*0.9)]\n",
    "    dev_data = all_doc[int(len(all_doc)*0.9):]\n",
    "    print(len(all_doc),len(training_data),len(dev_data))"
   ]
  },
  {
   "cell_type": "code",
   "execution_count": null,
   "metadata": {},
   "outputs": [],
   "source": [
    "with open('test.tsv', 'r') as f_test:\n",
    "    test_data = f_test.readlines()"
   ]
  },
  {
   "cell_type": "code",
   "execution_count": null,
   "metadata": {},
   "outputs": [],
   "source": [
    "def preprocess_data(data):\n",
    "    \n",
    "    chars_to_remove = re.compile(f'[{string.punctuation}]')\n",
    "    \n",
    "    documents = []\n",
    "    categories = []\n",
    "    vocab = set([])\n",
    "    \n",
    "    for line in data:\n",
    "        line = line.strip()\n",
    "        if line:\n",
    "            category, content = line.split('\\t')\n",
    "            \n",
    "            words = chars_to_remove.sub(' ', content).lower().split()\n",
    "            for word in words:\n",
    "                vocab.add(word)\n",
    "            documents.append(words)\n",
    "            categories.append(category)\n",
    "    return documents, categories, vocab"
   ]
  },
  {
   "cell_type": "code",
   "execution_count": null,
   "metadata": {},
   "outputs": [],
   "source": [
    "\n",
    "preprocessed_training_data, training_categories, train_vocab = preprocess_data(training_data)\n",
    "preprocessed_dev_data, dev_categories, dev_vocab = preprocess_data(dev_data)\n",
    "preprocessed_test_data, test_categories, test_vocab = preprocess_data(test_data)\n",
    "\n",
    "print(\"Training data has %d documents and vocab size of %d\" %(len(preprocessed_training_data), len(train_vocab)))\n",
    "print(\"Dev data has %d documents and vocab size of %d\" %(len(preprocessed_dev_data), len(dev_vocab)))\n",
    "print(\"There are %d categories in the training data and %d in the dev\" %(len(set(training_categories)), len(set(dev_categories))))"
   ]
  },
  {
   "cell_type": "code",
   "execution_count": null,
   "metadata": {},
   "outputs": [],
   "source": [
    "word2id = {}\n",
    "for word_id,word in enumerate(train_vocab):\n",
    "    word2id[word] = word_id\n",
    "    \n",
    "cat2id = {}\n",
    "for cat_id,cat in enumerate(set(training_categories)):\n",
    "    cat2id[cat] = cat_id\n",
    "    \n",
    "print(\"The word id for son is\", word2id['son'])\n",
    "print(\"The category id for Pets & animals is\", cat2id['OT'])"
   ]
  },
  {
   "cell_type": "code",
   "execution_count": null,
   "metadata": {},
   "outputs": [],
   "source": [
    "#Convert data to bag-of-words format\n",
    "def convert_to_bow_matrix(preprocessed_data, word2id):\n",
    "    matrix_size = (len(preprocessed_data),len(word2id)+1)\n",
    "    oov_index = len(word2id)\n",
    "    # matrix index by [doc_id, token_id]\n",
    "    X = scipy.sparse.dok_matrix(matrix_size)\n",
    "    \n",
    "    for doc_id,doc in enumerate(preprocessed_data):\n",
    "        for word in doc:\n",
    "            #default is 0, so add to the count for this word in the doc\n",
    "            #if the word is oov, increment the oov_index\n",
    "            X[doc_id,word2id.get(word,oov_index)] += 1\n",
    "    return X"
   ]
  },
  {
   "cell_type": "code",
   "execution_count": null,
   "metadata": {},
   "outputs": [],
   "source": [
    "%%time\n",
    "X_train = convert_to_bow_matrix(preprocessed_training_data, word2id)"
   ]
  },
  {
   "cell_type": "code",
   "execution_count": null,
   "metadata": {},
   "outputs": [],
   "source": [
    "#check some docs\n",
    "print(\"First 3 documents are:\", X_train[:3])"
   ]
  },
  {
   "cell_type": "code",
   "execution_count": null,
   "metadata": {},
   "outputs": [],
   "source": [
    "#labels to predict\n",
    "y_train = [cat2id[cat] for cat in training_categories]\n",
    "#check the first 3 categories\n",
    "print(y_train[:3])"
   ]
  },
  {
   "cell_type": "code",
   "execution_count": null,
   "metadata": {},
   "outputs": [],
   "source": [
    "#Training an SVM model\n",
    "\n",
    "#import the lib for support vector machines\n",
    "from sklearn import svm\n",
    "\n",
    "model = sklearn.svm.SVC(C=1000, gamma='scale')\n",
    "#Start training the model\n",
    "model.fit(X_train,y_train)"
   ]
  },
  {
   "cell_type": "code",
   "execution_count": null,
   "metadata": {},
   "outputs": [],
   "source": [
    "#evaluate on training data: how well did we fit to the data we trained on?\n",
    "y_train_predictions = model.predict(X_train)\n",
    "\n",
    "#compute any metrics we care about. Let's do accuracy\n",
    "def compute_accuracy(predictions, true_values):\n",
    "    num_correct = 0\n",
    "    num_total = len(predictions)\n",
    "    for predicted, true in zip(predictions, true_values):\n",
    "        if predicted==true:\n",
    "            num_correct += 1\n",
    "    return num_correct / num_total\n",
    "\n",
    "accuracy = compute_accuracy(y_train_predictions, y_train)\n",
    "print(\"Accuracy:\", accuracy)"
   ]
  },
  {
   "cell_type": "code",
   "execution_count": null,
   "metadata": {},
   "outputs": [],
   "source": [
    "#prepare dev data in the same was as training data\n",
    "X_dev = convert_to_bow_matrix(preprocessed_dev_data, word2id)\n",
    "y_dev = [cat2id[cat] for cat in dev_categories]"
   ]
  },
  {
   "cell_type": "code",
   "execution_count": null,
   "metadata": {},
   "outputs": [],
   "source": [
    "#prepare test data in the same was as training data\n",
    "X_test = convert_to_bow_matrix(preprocessed_test_data, word2id)\n",
    "y_test = [cat2id[cat] for cat in test_categories]"
   ]
  },
  {
   "cell_type": "code",
   "execution_count": null,
   "metadata": {},
   "outputs": [],
   "source": [
    "#evaluate on dev data\n",
    "y_dev_predictions = model.predict(X_dev)\n",
    "accuracy = compute_accuracy(y_dev_predictions, y_dev)\n",
    "print(\"Accuracy:\", accuracy)\n",
    "\n",
    "#identify 3 instances from the development set that the baseline system labels incorrectly\n",
    "print(\"Quran=%d,OT=%d,NT=%d\" %(cat2id['Quran'], cat2id['OT'], cat2id['NT']))\n",
    "count=0\n",
    "for i,j in zip(y_dev_predictions,y_dev):\n",
    "    if i!=j:\n",
    "        print(\"pred=%d,true=%d\" %(i,j))\n",
    "        print(preprocessed_dev_data[count])\n",
    "    count+=1"
   ]
  },
  {
   "cell_type": "code",
   "execution_count": null,
   "metadata": {},
   "outputs": [],
   "source": [
    "#evaluate on test data\n",
    "y_test_predictions = model.predict(X_test)\n",
    "accuracy = compute_accuracy(y_test_predictions, y_test)\n",
    "print(\"Accuracy:\", accuracy)"
   ]
  },
  {
   "cell_type": "code",
   "execution_count": null,
   "metadata": {},
   "outputs": [],
   "source": [
    "#about baseline\n",
    "baseline_predictions = [cat2id['OT']] * len(y_test)\n",
    "baseline_accuracy = compute_accuracy(baseline_predictions, y_test)\n",
    "print(\"Accuracy:\", baseline_accuracy)"
   ]
  },
  {
   "cell_type": "code",
   "execution_count": null,
   "metadata": {},
   "outputs": [],
   "source": [
    "'''try diefferent model\n",
    "from sklearn import ensemble\n",
    "model = sklearn.ensemble.RandomForestClassifier()\n",
    "model.fit(X_train, y_train)\n",
    "\n",
    "y_train_predictions = model.predict(X_train)\n",
    "print(\"Train accuracy was:\", compute_accuracy(y_train_predictions,y_train))\n",
    "y_dev_predictions = model.predict(X_dev)\n",
    "print(\"dev accuracy was:\", compute_accuracy(y_dev_predictions, y_dev))'''"
   ]
  },
  {
   "cell_type": "code",
   "execution_count": null,
   "metadata": {},
   "outputs": [],
   "source": [
    "#calculate for Quran\n",
    "def prf1_calculation(class_name, cat2id, predictions, true_values):\n",
    "    class_id = cat2id[class_name]\n",
    "    TP=TN=FP=FN=0\n",
    "    num_total = len(predictions)\n",
    "    for predicted, true in zip(predictions, true_values):\n",
    "        if predicted==class_id and true==class_id:\n",
    "            TP+=1\n",
    "        elif predicted!=class_id and true!=class_id:\n",
    "            TN+=1\n",
    "        elif predicted==class_id and true!=class_id:\n",
    "            FP+=1\n",
    "        elif predicted!=class_id and true==class_id:\n",
    "            FN+=1\n",
    "        \n",
    "    precision = TP/(TP+FP)\n",
    "    recall = TP/(TP+FN)\n",
    "    f1 = (2*precision*recall)/(precision+recall)\n",
    "    return precision, recall, f1\n",
    "\n",
    "def print_line(cat2id, predictions, true_values):\n",
    "    p_quran, r_quran, f_quran = prf1_calculation('Quran', cat2id, predictions, true_values)\n",
    "    p_ot, r_ot, f_ot = prf1_calculation('OT', cat2id, predictions, true_values)\n",
    "    p_nt, r_nt, f_nt = prf1_calculation('NT', cat2id, predictions, true_values)\n",
    "    p_macro = (p_quran+p_ot+p_nt)/3\n",
    "    r_macro = (r_quran+r_ot+r_nt)/3\n",
    "    f_macro = (f_quran+f_ot+f_nt)/3\n",
    "    line = [p_quran,r_quran,f_quran,p_ot,r_ot,f_ot,p_nt,r_nt,f_nt,p_macro,r_macro,f_macro]\n",
    "    return line\n",
    "\n",
    "print(\"baseline,train,\",end='')\n",
    "line = print_line(cat2id, y_train_predictions, y_train)\n",
    "for id,single in enumerate(line):\n",
    "    if(id==len(line)-1):\n",
    "        print(\"%.3f\" %single)\n",
    "    else:\n",
    "        print(\"%.3f\" %single, end=',')\n",
    "        \n",
    "print(\"baseline,dev,\",end='')\n",
    "line = print_line(cat2id, y_dev_predictions, y_dev)\n",
    "for id,single in enumerate(line):\n",
    "    if(id==len(line)-1):\n",
    "        print(\"%.3f\" %single)\n",
    "    else:\n",
    "        print(\"%.3f\" %single, end=',')\n",
    "        \n",
    "print(\"baseline,test,\",end='')\n",
    "line = print_line(cat2id, y_test_predictions, y_test)\n",
    "for id,single in enumerate(line):\n",
    "    if(id==len(line)-1):\n",
    "        print(\"%.3f\" %single)\n",
    "    else:\n",
    "        print(\"%.3f\" %single, end=',')"
   ]
  },
  {
   "cell_type": "code",
   "execution_count": null,
   "metadata": {},
   "outputs": [],
   "source": [
    "#calculate for OT\n"
   ]
  },
  {
   "cell_type": "code",
   "execution_count": null,
   "metadata": {},
   "outputs": [],
   "source": [
    "\n",
    "#calculate for NT"
   ]
  },
  {
   "cell_type": "code",
   "execution_count": null,
   "metadata": {},
   "outputs": [],
   "source": []
  },
  {
   "cell_type": "code",
   "execution_count": null,
   "metadata": {},
   "outputs": [],
   "source": []
  },
  {
   "cell_type": "code",
   "execution_count": null,
   "metadata": {},
   "outputs": [],
   "source": []
  }
 ],
 "metadata": {
  "kernelspec": {
   "display_name": "Python 3",
   "language": "python",
   "name": "python3"
  },
  "language_info": {
   "codemirror_mode": {
    "name": "ipython",
    "version": 3
   },
   "file_extension": ".py",
   "mimetype": "text/x-python",
   "name": "python",
   "nbconvert_exporter": "python",
   "pygments_lexer": "ipython3",
   "version": "3.7.2"
  }
 },
 "nbformat": 4,
 "nbformat_minor": 2
}
